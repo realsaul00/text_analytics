{
 "cells": [
  {
   "cell_type": "code",
   "execution_count": 2,
   "metadata": {},
   "outputs": [
    {
     "data": {
      "text/plain": [
       "['rec.autos', 'sci.space', 'misc.forsale', 'sci.electronics']"
      ]
     },
     "execution_count": 2,
     "metadata": {},
     "output_type": "execute_result"
    }
   ],
   "source": [
    "#picked out only four categories \n",
    "categories = ['rec.autos', 'sci.space','misc.forsale', 'sci.electronics']\n",
    "categories"
   ]
  },
  {
   "cell_type": "code",
   "execution_count": 3,
   "metadata": {
    "collapsed": true
   },
   "outputs": [],
   "source": [
    "#imported 20 newsgroups from sklearn.datasets library \n",
    "from sklearn.datasets import fetch_20newsgroups"
   ]
  },
  {
   "cell_type": "code",
   "execution_count": 4,
   "metadata": {
    "collapsed": true
   },
   "outputs": [],
   "source": [
    "#removed headers, footers, and quotes from the four categories mentioned above\n",
    "#made sure to shuffle and to set a random state\n",
    "train = fetch_20newsgroups(subset='train', remove=('headers', 'footers', 'quotes'),\n",
    "                              categories=categories, shuffle=True, random_state=39)"
   ]
  },
  {
   "cell_type": "code",
   "execution_count": 5,
   "metadata": {},
   "outputs": [
    {
     "data": {
      "text/plain": [
       "['misc.forsale', 'rec.autos', 'sci.electronics', 'sci.space']"
      ]
     },
     "execution_count": 5,
     "metadata": {},
     "output_type": "execute_result"
    }
   ],
   "source": [
    "#print train target names \n",
    "train.target_names"
   ]
  },
  {
   "cell_type": "code",
   "execution_count": 6,
   "metadata": {},
   "outputs": [
    {
     "data": {
      "text/plain": [
       "2363"
      ]
     },
     "execution_count": 6,
     "metadata": {},
     "output_type": "execute_result"
    }
   ],
   "source": [
    "#length of train data and filenames\n",
    "len(train.data)\n",
    "len(train.filenames)"
   ]
  },
  {
   "cell_type": "code",
   "execution_count": 7,
   "metadata": {},
   "outputs": [
    {
     "name": "stdout",
     "output_type": "stream",
     "text": [
      "FOR SALE:\n",
      "\n",
      "  486 DX/33 Motherboard for sale.  Excellent condition...less than\n",
      "\n",
      "  one year old.  64K cache, expandable to 256K.  RAM expandable to 32MB.\n",
      "\n",
      "  AMI BIOS.  Need to sell...upgrading.  \n",
      "\n",
      "  Asking:  $600.00 (neg.)\n",
      "\n"
     ]
    }
   ],
   "source": [
    "#print the first 10 rows of the first record on file and seperated by line\n",
    "print(\"\\n\".join(train.data[0].split(\"\\n\")[:10]))"
   ]
  },
  {
   "cell_type": "code",
   "execution_count": 8,
   "metadata": {},
   "outputs": [
    {
     "name": "stdout",
     "output_type": "stream",
     "text": [
      "From article <eabu288-140493210752@dialin33635.slip.nts.uci.edu>, by eabu288@orion.oac.uci.edu (Alvin):\n",
      "\n",
      "--Could be.  Isn't the 2.5 liter six supposed to be enlarged to 2.8 liters\n",
      "  in the not-too-distant future?\n",
      "\n",
      "--Aamir Qazi\n",
      "\n",
      "-- \n"
     ]
    }
   ],
   "source": [
    "#print the first 10 rows of the second record on file and seperated by line\n",
    "print(\"\\n\".join(train.data[1].split(\"\\n\")[:10]))"
   ]
  },
  {
   "cell_type": "code",
   "execution_count": 9,
   "metadata": {},
   "outputs": [
    {
     "name": "stdout",
     "output_type": "stream",
     "text": [
      "\n",
      "\n",
      "Indeed! Word is, Intel's lawsuit against AMD was absolutely THROWN OUT of\n",
      "court Monday! AMD said they would be shipping chips WITH THE INTEL INSTRUCTION\n",
      "SET next week!!! 486 chip prices are going to go through the floor,\n",
      "mark my words!!!\n",
      "\n",
      "Regards,\n",
      "Gordon.\n",
      "\n"
     ]
    }
   ],
   "source": [
    "#print the first 10 rows of the third record on file and seperated by line\n",
    "print(\"\\n\".join(train.data[2].split(\"\\n\")[:10]))"
   ]
  },
  {
   "cell_type": "code",
   "execution_count": 10,
   "metadata": {},
   "outputs": [
    {
     "name": "stdout",
     "output_type": "stream",
     "text": [
      "Hi,\n",
      "\n",
      "Since the original buyer found out he couldn't use this modem\n",
      "for his Mac (I beleive I mentioned that it's an internal in my\n",
      "former post), the modem is re-available now.  This modem is\n",
      "SupraFaxModem V.32bis.  If interested, please e-mail.\n",
      "\n",
      "Thanks!\n"
     ]
    }
   ],
   "source": [
    "#print the first 10 rows of the fourth record on file and seperated by line\n",
    "print(\"\\n\".join(train.data[3].split(\"\\n\")[:10]))"
   ]
  },
  {
   "cell_type": "code",
   "execution_count": 11,
   "metadata": {},
   "outputs": [
    {
     "name": "stdout",
     "output_type": "stream",
     "text": [
      "\n",
      ")Do you know what frequencies chanels 17 to 19 use and what is usually \n",
      ")allocated to those frequencies for broadcast outside of cable?\n",
      "\n",
      "17 is air comm.\n",
      "18 is amateur\n",
      "19 is business and public service\n",
      "\n"
     ]
    }
   ],
   "source": [
    "#print the first 10 rows of the eleventh record on file and seperated by line\n",
    "print(\"\\n\".join(train.data[10].split(\"\\n\")[:10]))"
   ]
  },
  {
   "cell_type": "code",
   "execution_count": 12,
   "metadata": {},
   "outputs": [
    {
     "name": "stdout",
     "output_type": "stream",
     "text": [
      "misc.forsale\n"
     ]
    }
   ],
   "source": [
    "#print target name for the first record\n",
    "print(train.target_names[train.target[0]])"
   ]
  },
  {
   "cell_type": "code",
   "execution_count": 13,
   "metadata": {},
   "outputs": [
    {
     "name": "stdout",
     "output_type": "stream",
     "text": [
      "rec.autos\n"
     ]
    }
   ],
   "source": [
    "#print target name for the second record\n",
    "print(train.target_names[train.target[1]])"
   ]
  },
  {
   "cell_type": "code",
   "execution_count": 14,
   "metadata": {},
   "outputs": [
    {
     "name": "stdout",
     "output_type": "stream",
     "text": [
      "misc.forsale\n"
     ]
    }
   ],
   "source": [
    "#print target name for the third record\n",
    "print(train.target_names[train.target[2]])"
   ]
  },
  {
   "cell_type": "code",
   "execution_count": 15,
   "metadata": {},
   "outputs": [
    {
     "name": "stdout",
     "output_type": "stream",
     "text": [
      "misc.forsale\n"
     ]
    }
   ],
   "source": [
    "#print target name for the fourth record\n",
    "print(train.target_names[train.target[3]])"
   ]
  },
  {
   "cell_type": "code",
   "execution_count": 16,
   "metadata": {},
   "outputs": [
    {
     "name": "stdout",
     "output_type": "stream",
     "text": [
      "sci.electronics\n"
     ]
    }
   ],
   "source": [
    "#print target name for the eleventh record\n",
    "print(train.target_names[train.target[10]])"
   ]
  },
  {
   "cell_type": "code",
   "execution_count": 17,
   "metadata": {},
   "outputs": [
    {
     "data": {
      "text/plain": [
       "array([0, 1, 0, 0, 3, 1, 3, 0, 1, 0])"
      ]
     },
     "execution_count": 17,
     "metadata": {},
     "output_type": "execute_result"
    }
   ],
   "source": [
    "#print an array of the first ten target names\n",
    "train.target[:10]"
   ]
  },
  {
   "cell_type": "code",
   "execution_count": 18,
   "metadata": {},
   "outputs": [
    {
     "name": "stdout",
     "output_type": "stream",
     "text": [
      "misc.forsale\n",
      "rec.autos\n",
      "misc.forsale\n",
      "misc.forsale\n",
      "sci.space\n",
      "rec.autos\n",
      "sci.space\n",
      "misc.forsale\n",
      "rec.autos\n",
      "misc.forsale\n",
      "sci.electronics\n",
      "sci.electronics\n",
      "misc.forsale\n",
      "sci.space\n",
      "sci.space\n",
      "rec.autos\n",
      "sci.space\n",
      "misc.forsale\n",
      "sci.electronics\n",
      "sci.electronics\n"
     ]
    }
   ],
   "source": [
    "#print the first twenty target names in a list\n",
    "for t in train.target[:20]:\n",
    "    print(train.target_names[t])"
   ]
  },
  {
   "cell_type": "code",
   "execution_count": 19,
   "metadata": {
    "collapsed": true
   },
   "outputs": [],
   "source": [
    "#from sklearn.feature_extraction import CountVectorizer feature\n",
    "from sklearn.feature_extraction.text import CountVectorizer"
   ]
  },
  {
   "cell_type": "code",
   "execution_count": 20,
   "metadata": {},
   "outputs": [
    {
     "data": {
      "text/plain": [
       "(2363, 25061)"
      ]
     },
     "execution_count": 20,
     "metadata": {},
     "output_type": "execute_result"
    }
   ],
   "source": [
    "#extracting features from train files\n",
    "vecto = CountVectorizer()\n",
    "X_train = vecto.fit_transform(train.data) #sparse matrix structure of text data turned into numeric\n",
    "X_train.shape #shape of the sparse matrix"
   ]
  },
  {
   "cell_type": "code",
   "execution_count": 21,
   "metadata": {},
   "outputs": [
    {
     "data": {
      "text/plain": [
       "3398"
      ]
     },
     "execution_count": 21,
     "metadata": {},
     "output_type": "execute_result"
    }
   ],
   "source": [
    "#N-grams of words of consecutive characters\n",
    "vecto.vocabulary_.get(u'algorithm')"
   ]
  },
  {
   "cell_type": "code",
   "execution_count": 22,
   "metadata": {},
   "outputs": [
    {
     "data": {
      "text/plain": [
       "(2363, 25061)"
      ]
     },
     "execution_count": 22,
     "metadata": {},
     "output_type": "execute_result"
    }
   ],
   "source": [
    "#downscaling using the TfidTransformer\n",
    "from sklearn.feature_extraction.text import TfidfTransformer\n",
    "tf_trans = TfidfTransformer(use_idf=False).fit(X_train) #“Term Frequency times Inverse Document Frequency” using tf\n",
    "X_train_tf = tf_trans.transform(X_train) \n",
    "X_train_tf.shape #shape of object "
   ]
  },
  {
   "cell_type": "code",
   "execution_count": 23,
   "metadata": {},
   "outputs": [
    {
     "data": {
      "text/plain": [
       "(2363, 25061)"
      ]
     },
     "execution_count": 23,
     "metadata": {},
     "output_type": "execute_result"
    }
   ],
   "source": [
    "#“Term Frequency times Inverse Document Frequency” using tfidf\n",
    "tfidf_trans = TfidfTransformer() \n",
    "X_train_tfidf = tfidf_trans.fit_transform(X_train)\n",
    "X_train_tfidf.shape #shape of object "
   ]
  },
  {
   "cell_type": "code",
   "execution_count": 24,
   "metadata": {
    "collapsed": true
   },
   "outputs": [],
   "source": [
    "#importing sklearn.naive_bayes multinomial and training Naive Bayes classifier \n",
    "from sklearn.naive_bayes import MultinomialNB\n",
    "naive_cf = MultinomialNB().fit(X_train_tfidf, train.target)"
   ]
  },
  {
   "cell_type": "code",
   "execution_count": 25,
   "metadata": {
    "collapsed": true
   },
   "outputs": [],
   "source": [
    "#creating a sample text that talks about space \n",
    "new_doc_space = ['There are claims of extraterestial life in the universe.',\n",
    "                 'Exploration in Mars is set to begin in 2020.', \n",
    "                 'The orgin of life started 4.3 billion years ago.']"
   ]
  },
  {
   "cell_type": "code",
   "execution_count": 26,
   "metadata": {
    "collapsed": true
   },
   "outputs": [],
   "source": [
    "#test and predict sample text with classifier \n",
    "X_new = vecto.transform(new_doc_space)\n",
    "X_new_tfidf = tfidf_trans.transform(X_new)\n",
    "X_new_tfidf = tfidf_trans.transform(X_new)\n",
    "pred_text = naive_cf.predict(X_new_tfidf)"
   ]
  },
  {
   "cell_type": "code",
   "execution_count": 27,
   "metadata": {
    "scrolled": true
   },
   "outputs": [
    {
     "name": "stdout",
     "output_type": "stream",
     "text": [
      "'There are claims of extraterestial life in the universe.' => sci.space\n",
      "'Exploration in Mars is set to begin in 2020.' => sci.space\n",
      "'The orgin of life started 4.3 billion years ago.' => sci.space\n"
     ]
    }
   ],
   "source": [
    "#print result \n",
    "for doc, category in zip(new_doc_space, pred_text):\n",
    "    print('%r => %s' % (doc, train.target_names[category]))"
   ]
  },
  {
   "cell_type": "code",
   "execution_count": 28,
   "metadata": {
    "collapsed": true
   },
   "outputs": [],
   "source": [
    "#create multiple pieces of text that talk about various topics within the trained categories\n",
    "#in the last three lines tried to trick the classifier \n",
    "doc_all = ['I am selling my dog Bruno for 100 dollars.',\n",
    "           'I want to trade my 2013 Nissan Rogue for a 2017 Ford F150.',\n",
    "           'GPUs are much faster than CPUs in machine learning.',\n",
    "           'The Milky Way is 100 million light years across.',\n",
    "            'To travel accross the universe, a person needs to be financially stable, and sell everything he/she owns.',\n",
    "            'To travel accross the universe, a person needs to be financially stable, and sell every vehicle he/she owns.',\n",
    "            'To travel accross the universe, a person needs to be financially stable, and sell every ford he/she owns.']\n",
    "    "
   ]
  },
  {
   "cell_type": "code",
   "execution_count": 29,
   "metadata": {
    "collapsed": true
   },
   "outputs": [],
   "source": [
    "#test and predict multiple pieces of text with classifier \n",
    "X_new = vecto.transform(doc_all)\n",
    "X_new_tfidf = tfidf_trans.transform(X_new)\n",
    "X_new_tfidf = tfidf_trans.transform(X_new)\n",
    "pred_text = naive_cf.predict(X_new_tfidf)"
   ]
  },
  {
   "cell_type": "code",
   "execution_count": 30,
   "metadata": {},
   "outputs": [
    {
     "name": "stdout",
     "output_type": "stream",
     "text": [
      "'I am selling my dog Bruno for 100 dollars.' => misc.forsale\n",
      "'I want to trade my 2013 Nissan Rogue for a 2017 Ford F150.' => rec.autos\n",
      "'GPUs are much faster than CPUs in machine learning.' => sci.electronics\n",
      "'The Milky Way is 100 million light years across.' => sci.space\n",
      "'To travel accross the universe, a person needs to be financially stable, and sell everything he/she owns.' => rec.autos\n",
      "'To travel accross the universe, a person needs to be financially stable, and sell every vehicle he/she owns.' => sci.space\n",
      "'To travel accross the universe, a person needs to be financially stable, and sell every ford he/she owns.' => rec.autos\n"
     ]
    }
   ],
   "source": [
    "#print result\n",
    "for doc, category in zip(doc_all, pred_text):\n",
    "    print('%r => %s' % (doc, train.target_names[category]))"
   ]
  },
  {
   "cell_type": "code",
   "execution_count": 31,
   "metadata": {},
   "outputs": [
    {
     "data": {
      "text/plain": [
       "Pipeline(memory=None,\n",
       "     steps=[('vect', CountVectorizer(analyzer='word', binary=False, decode_error='strict',\n",
       "        dtype=<class 'numpy.int64'>, encoding='utf-8', input='content',\n",
       "        lowercase=True, max_df=1.0, max_features=None, min_df=1,\n",
       "        ngram_range=(1, 1), preprocessor=None, stop_words=None,\n",
       "        strip...inear_tf=False, use_idf=True)), ('clf', MultinomialNB(alpha=1.0, class_prior=None, fit_prior=True))])"
      ]
     },
     "execution_count": 31,
     "metadata": {},
     "output_type": "execute_result"
    }
   ],
   "source": [
    "#build a pipeline for the classifer\n",
    "from sklearn.pipeline import Pipeline\n",
    "text_naivecf = Pipeline([('vect', CountVectorizer()),\n",
    "                    ('tfidf', TfidfTransformer()),\n",
    "                    ('clf', MultinomialNB()),\n",
    "])    \n",
    "text_naivecf.fit(train.data, train.target) #Naive classifier pipeline"
   ]
  },
  {
   "cell_type": "code",
   "execution_count": 32,
   "metadata": {},
   "outputs": [
    {
     "data": {
      "text/plain": [
       "0.83852511125238394"
      ]
     },
     "execution_count": 32,
     "metadata": {},
     "output_type": "execute_result"
    }
   ],
   "source": [
    "#evaluate the performance of the test set for Naive Bayes \n",
    "import numpy as np\n",
    "test = fetch_20newsgroups(subset='test', remove=('headers', 'footers', 'quotes'),\n",
    "        categories=categories, shuffle=True, random_state=39)\n",
    "test_docs = test.data\n",
    "pred_naive = text_naivecf.predict(test_docs)\n",
    "np.mean(pred_naive == test.target)  #print the accuracy for Naive Bayes text clasifier"
   ]
  },
  {
   "cell_type": "code",
   "execution_count": 33,
   "metadata": {},
   "outputs": [
    {
     "data": {
      "text/plain": [
       "Pipeline(memory=None,\n",
       "     steps=[('vect', CountVectorizer(analyzer='word', binary=False, decode_error='strict',\n",
       "        dtype=<class 'numpy.int64'>, encoding='utf-8', input='content',\n",
       "        lowercase=True, max_df=1.0, max_features=None, min_df=1,\n",
       "        ngram_range=(1, 1), preprocessor=None, stop_words=None,\n",
       "        strip...ty='l2', power_t=0.5, random_state=39, shuffle=True,\n",
       "       tol=None, verbose=0, warm_start=False))])"
      ]
     },
     "execution_count": 33,
     "metadata": {},
     "output_type": "execute_result"
    }
   ],
   "source": [
    "#evaluate the performance of the test set for linear SVM\n",
    "from sklearn.linear_model import SGDClassifier\n",
    "text_linsvmcf = Pipeline([('vect', CountVectorizer()),\n",
    "                          ('tfidf', TfidfTransformer()),\n",
    "                          ('clf', SGDClassifier(loss='hinge', penalty='l2', #left penalty equal to 12 \n",
    "                                                alpha=1e-3, random_state=39,\n",
    "                                                max_iter=5, tol=None)), #max iterations set to 5\n",
    "                         ])\n",
    "text_linsvmcf.fit(train.data, train.target)  #linear SVM pipeline"
   ]
  },
  {
   "cell_type": "code",
   "execution_count": 34,
   "metadata": {},
   "outputs": [
    {
     "data": {
      "text/plain": [
       "0.817546090273363"
      ]
     },
     "execution_count": 34,
     "metadata": {},
     "output_type": "execute_result"
    }
   ],
   "source": [
    "#evaluate the performance of the test set for linear SVM\n",
    "pred_svm = text_linsvmcf.predict(test_docs)\n",
    "np.mean(pred_svm == test.target) #print accuracy for linear SVM "
   ]
  },
  {
   "cell_type": "code",
   "execution_count": 35,
   "metadata": {},
   "outputs": [
    {
     "name": "stdout",
     "output_type": "stream",
     "text": [
      "                 precision    recall  f1-score   support\n",
      "\n",
      "   misc.forsale       0.93      0.83      0.87       390\n",
      "      rec.autos       0.75      0.89      0.82       396\n",
      "sci.electronics       0.86      0.75      0.80       393\n",
      "      sci.space       0.84      0.88      0.86       394\n",
      "\n",
      "    avg / total       0.85      0.84      0.84      1573\n",
      "\n"
     ]
    }
   ],
   "source": [
    "#more detailed results for the Naive Bayes classifier metrics\n",
    "from sklearn import metrics\n",
    "print(metrics.classification_report(test.target, pred_naive,\n",
    "    target_names=test.target_names))"
   ]
  },
  {
   "cell_type": "code",
   "execution_count": 36,
   "metadata": {},
   "outputs": [
    {
     "name": "stdout",
     "output_type": "stream",
     "text": [
      "                 precision    recall  f1-score   support\n",
      "\n",
      "   misc.forsale       0.76      0.90      0.82       390\n",
      "      rec.autos       0.84      0.76      0.80       396\n",
      "sci.electronics       0.83      0.76      0.79       393\n",
      "      sci.space       0.86      0.85      0.85       394\n",
      "\n",
      "    avg / total       0.82      0.82      0.82      1573\n",
      "\n"
     ]
    }
   ],
   "source": [
    "#more detailed results for the SVM classifier metrics\n",
    "print(metrics.classification_report(test.target, pred_svm,\n",
    "    target_names=test.target_names))"
   ]
  },
  {
   "cell_type": "code",
   "execution_count": 37,
   "metadata": {},
   "outputs": [
    {
     "data": {
      "text/plain": [
       "array([[323,  37,  21,   9],\n",
       "       [ 11, 353,  15,  17],\n",
       "       [ 13,  47, 295,  38],\n",
       "       [  2,  33,  11, 348]])"
      ]
     },
     "execution_count": 37,
     "metadata": {},
     "output_type": "execute_result"
    }
   ],
   "source": [
    "#confusion matrix for Naive Bayes\n",
    "metrics.confusion_matrix(test.target, pred_naive)"
   ]
  },
  {
   "cell_type": "code",
   "execution_count": null,
   "metadata": {
    "collapsed": true
   },
   "outputs": [],
   "source": [
    "#confusion matrix for SVM\n",
    "metrics.confusion_matrix(test.target, pred_svm)"
   ]
  },
  {
   "cell_type": "code",
   "execution_count": 38,
   "metadata": {
    "collapsed": true
   },
   "outputs": [],
   "source": [
    "#found an electronics article online and wanted to test it with the Naive Bayes classifier \n",
    "article = ['With cell phones and implantable medical sensors smaller and lighter than ever, the antennas receiving signals must shrink as well. Enter foldable antennas from Osaka University in Japan. A team there recently printed what they call silver nanowire ink — a paste composed of 100-nanometer-wide wires, jumbled together onto paper made with fibers slightly wider than common paper. Folding or unfolding the paper tunes the wires to a range of frequencies. The highly sensitive components could be squeezed into narrower spaces within the tiniest electronic devices, making the antennas versatile enough to be applied to future foldable electronics. The pair of origami cranes above shows off the folded antenna-paper by lighting up an LED.']"
   ]
  },
  {
   "cell_type": "code",
   "execution_count": 39,
   "metadata": {},
   "outputs": [
    {
     "data": {
      "text/plain": [
       "['With cell phones and implantable medical sensors smaller and lighter than ever, the antennas receiving signals must shrink as well. Enter foldable antennas from Osaka University in Japan. A team there recently printed what they call silver nanowire ink — a paste composed of 100-nanometer-wide wires, jumbled together onto paper made with fibers slightly wider than common paper. Folding or unfolding the paper tunes the wires to a range of frequencies. The highly sensitive components could be squeezed into narrower spaces within the tiniest electronic devices, making the antennas versatile enough to be applied to future foldable electronics. The pair of origami cranes above shows off the folded antenna-paper by lighting up an LED.']"
      ]
     },
     "execution_count": 39,
     "metadata": {},
     "output_type": "execute_result"
    }
   ],
   "source": [
    "article"
   ]
  },
  {
   "cell_type": "code",
   "execution_count": 40,
   "metadata": {
    "collapsed": true
   },
   "outputs": [],
   "source": [
    "#test electronics article with classifier \n",
    "X_new1 = vecto.transform(article)\n",
    "X_new_tfidf1 = tfidf_trans.transform(X_new1)\n",
    "X_new_tfidf1 = tfidf_trans.transform(X_new1)\n",
    "pred_text1 = naive_cf.predict(X_new_tfidf1)"
   ]
  },
  {
   "cell_type": "code",
   "execution_count": 41,
   "metadata": {},
   "outputs": [
    {
     "name": "stdout",
     "output_type": "stream",
     "text": [
      "'With cell phones and implantable medical sensors smaller and lighter than ever, the antennas receiving signals must shrink as well. Enter foldable antennas from Osaka University in Japan. A team there recently printed what they call silver nanowire ink — a paste composed of 100-nanometer-wide wires, jumbled together onto paper made with fibers slightly wider than common paper. Folding or unfolding the paper tunes the wires to a range of frequencies. The highly sensitive components could be squeezed into narrower spaces within the tiniest electronic devices, making the antennas versatile enough to be applied to future foldable electronics. The pair of origami cranes above shows off the folded antenna-paper by lighting up an LED.' => sci.electronics\n"
     ]
    }
   ],
   "source": [
    "#print the predicted result\n",
    "for doc, category in zip(article, pred_text1):\n",
    "    print('%r => %s' % (doc, train.target_names[category]))"
   ]
  },
  {
   "cell_type": "code",
   "execution_count": 42,
   "metadata": {
    "collapsed": true
   },
   "outputs": [],
   "source": [
    "#import other python packages and libraries to do wordclouds, wordcounts, and remove stopwords\n",
    "from os import path\n",
    "from scipy.misc import imread\n",
    "import matplotlib.pyplot as plt\n",
    "import random\n",
    "import pandas as pd\n",
    "from wordcloud import WordCloud, STOPWORDS"
   ]
  },
  {
   "cell_type": "code",
   "execution_count": 43,
   "metadata": {
    "collapsed": true
   },
   "outputs": [],
   "source": [
    "#import other python packages and libraries to do wordclouds, wordcounts, and remove stopwords\n",
    "import nltk\n",
    "import re\n",
    "from nltk.stem import WordNetLemmatizer\n",
    "from nltk.corpus import stopwords"
   ]
  },
  {
   "cell_type": "code",
   "execution_count": 44,
   "metadata": {
    "collapsed": true
   },
   "outputs": [],
   "source": [
    "#transform text \n",
    "words = str(train)\n",
    "words = words.replace('*', '') #replace '*' with empty space\n",
    "words = words.lower()   #lower case all words\n",
    "text = words.split()    #split all words\n",
    "text_str = str(text)    #create a string for "
   ]
  },
  {
   "cell_type": "code",
   "execution_count": 45,
   "metadata": {
    "collapsed": true
   },
   "outputs": [],
   "source": [
    "#remove english stopwords\n",
    "stop_words = set(stopwords.words('english'))   \n",
    "clean_words = []\n",
    "for w in text:\n",
    "    if w not in stop_words:\n",
    "        clean_words.append(w)"
   ]
  },
  {
   "cell_type": "code",
   "execution_count": 46,
   "metadata": {},
   "outputs": [
    {
     "data": {
      "image/png": "[encoded data removed]",
      "text/plain": [
       "<matplotlib.figure.Figure at 0x117fc5f98>"
      ]
     },
     "metadata": {},
     "output_type": "display_data"
    }
   ],
   "source": [
    "#create a wordcloud \n",
    "wordcloud1 = WordCloud(font_path='/Library/Fonts/Verdana.ttf',\n",
    "                      relative_scaling = 0,\n",
    "                      stopwords = {'ourselves', 'hers', 'between', 'yourself', 'but', 'again', 'there', 'about', 'once', 'during', 'out', 'very', 'having', 'with', 'they', 'own', 'an', 'be', 'some', 'for', 'do', 'its', 'yours', 'such', 'into', 'of', 'most', 'itself', 'other', 'off', 'is', 's', 'am', 'or', 'who', 'as', 'from', 'him', 'each', 'the', 'themselves', 'until', 'below', 'are', 'we', 'these', 'your', 'his', 'through', 'don', 'nor', 'me', 'were', 'her', 'more', 'himself', 'this', 'down', 'should', 'our', 'their', 'while', 'above', 'both', 'up', 'to', 'ours', 'had', 'she', 'all', 'no', 'when', 'at', 'any', 'before', 'them', 'same', 'and', 'been', 'have', 'in', 'will', 'on', 'does', 'yourselves', 'then', 'that', 'because', 'what', 'over', 'why', 'so', 'can', 'did', 'not', 'now', 'under', 'he', 'you', 'herself', 'has', 'just', 'where', 'too', 'only', 'myself', 'which', 'those', 'i', 'after', 'few', 'whom', 't', 'being', 'if', 'theirs', 'my', 'against', 'a', 'by', 'doing', 'it', 'how', 'further', 'was', 'here', 'than'} \n",
    "                      ).generate(words) #words in wordcloud without stopwords\n",
    "plt.imshow(wordcloud1)\n",
    "plt.axis(\"off\")\n",
    "plt.show() #plot wordcloud with stop words removed"
   ]
  },
  {
   "cell_type": "code",
   "execution_count": 47,
   "metadata": {},
   "outputs": [
    {
     "name": "stdout",
     "output_type": "stream",
     "text": [
      "[('-', 1252), ('\\\\n', 1126), ('would', 840), ('space', 667), ('one', 660), ('like', 614), ('get', 577), ('new', 442), ('use', 431), ('also', 421), ('good', 406), ('may', 372), ('car', 361), ('know', 357), ('could', 347), ('used', 318), ('--', 316), ('.', 314), ('much', 300), ('|', 299)]\n",
      "<FreqDist with 67042 samples and 195724 outcomes>\n"
     ]
    },
    {
     "data": {
      "image/png": "[encoded data removed]",
      "text/plain": [
       "<matplotlib.figure.Figure at 0x115acdfd0>"
      ]
     },
     "metadata": {},
     "output_type": "display_data"
    },
    {
     "name": "stdout",
     "output_type": "stream",
     "text": [
      "None\n"
     ]
    }
   ],
   "source": [
    "#do a frequency distribution and wordcount of the most common words\n",
    "freq_words = nltk.FreqDist(clean_words)\n",
    "print(freq_words.most_common(20))\n",
    "print(freq_words)\n",
    "print(freq_words.plot(100))"
   ]
  },
  {
   "cell_type": "code",
   "execution_count": 48,
   "metadata": {},
   "outputs": [
    {
     "data": {
      "text/plain": [
       "matrix([[ 0.11315997,  0.        ,  0.        , ...,  0.        ,\n",
       "          0.        ,  0.        ],\n",
       "        [ 0.        ,  0.        ,  0.        , ...,  0.        ,\n",
       "          0.        ,  0.        ],\n",
       "        [ 0.        ,  0.        ,  0.        , ...,  0.        ,\n",
       "          0.        ,  0.        ],\n",
       "        ..., \n",
       "        [ 0.        ,  0.        ,  0.        , ...,  0.        ,\n",
       "          0.        ,  0.        ],\n",
       "        [ 0.        ,  0.        ,  0.        , ...,  0.        ,\n",
       "          0.        ,  0.        ],\n",
       "        [ 0.        ,  0.        ,  0.        , ...,  0.        ,\n",
       "          0.        ,  0.        ]])"
      ]
     },
     "execution_count": 48,
     "metadata": {},
     "output_type": "execute_result"
    }
   ],
   "source": [
    "#print dodense matrix\n",
    "X_train_tfidf.todense()"
   ]
  },
  {
   "cell_type": "code",
   "execution_count": 49,
   "metadata": {
    "collapsed": true
   },
   "outputs": [],
   "source": [
    "#article from the internet that talks about cars\n",
    "article2 = ['Chevrolet is rolling out a slew of updates to the Malibu mid-size sedan for 2019. The changes touch not only the exterior and interior appearance but also some mechanicals and infotainment offerings. There’s also a new RS trim level that finally gives Chevy an equivalent to Honda’s Accord Sport and Toyota’s Camry SE and XSE models.'] "
   ]
  },
  {
   "cell_type": "code",
   "execution_count": 50,
   "metadata": {},
   "outputs": [
    {
     "data": {
      "text/plain": [
       "['Chevrolet is rolling out a slew of updates to the Malibu mid-size sedan for 2019. The changes touch not only the exterior and interior appearance but also some mechanicals and infotainment offerings. There’s also a new RS trim level that finally gives Chevy an equivalent to Honda’s Accord Sport and Toyota’s Camry SE and XSE models.']"
      ]
     },
     "execution_count": 50,
     "metadata": {},
     "output_type": "execute_result"
    }
   ],
   "source": [
    "article2"
   ]
  },
  {
   "cell_type": "code",
   "execution_count": 51,
   "metadata": {
    "collapsed": true
   },
   "outputs": [],
   "source": [
    "#test cars article with classifier \n",
    "X_new2 = vecto.transform(article2)\n",
    "X_new_tfidf2 = tfidf_trans.transform(X_new2)\n",
    "X_new_tfidf2 = tfidf_trans.transform(X_new2)\n",
    "pred_text2 = naive_cf.predict(X_new_tfidf2)"
   ]
  },
  {
   "cell_type": "code",
   "execution_count": 52,
   "metadata": {},
   "outputs": [
    {
     "name": "stdout",
     "output_type": "stream",
     "text": [
      "'Chevrolet is rolling out a slew of updates to the Malibu mid-size sedan for 2019. The changes touch not only the exterior and interior appearance but also some mechanicals and infotainment offerings. There’s also a new RS trim level that finally gives Chevy an equivalent to Honda’s Accord Sport and Toyota’s Camry SE and XSE models.' => rec.autos\n"
     ]
    }
   ],
   "source": [
    "#print the predicted result\n",
    "for doc, category in zip(article2, pred_text2):\n",
    "    print('%r => %s' % (doc, train.target_names[category]))"
   ]
  },
  {
   "cell_type": "code",
   "execution_count": 53,
   "metadata": {
    "collapsed": true
   },
   "outputs": [],
   "source": [
    "#article from the internet that talks about space\n",
    "article3 = ['When I first glanced at the image above, I thought I was looking at the surface of the Sun. But no, these really are mega cyclones swirling with winds up to 220 miles per hour around Jupiter’s north and south poles, as seen by NASA’s Juno spacecraft.']"
   ]
  },
  {
   "cell_type": "code",
   "execution_count": 54,
   "metadata": {},
   "outputs": [
    {
     "data": {
      "text/plain": [
       "['When I first glanced at the image above, I thought I was looking at the surface of the Sun. But no, these really are mega cyclones swirling with winds up to 220 miles per hour around Jupiter’s north and south poles, as seen by NASA’s Juno spacecraft.']"
      ]
     },
     "execution_count": 54,
     "metadata": {},
     "output_type": "execute_result"
    }
   ],
   "source": [
    "article3"
   ]
  },
  {
   "cell_type": "code",
   "execution_count": 55,
   "metadata": {
    "collapsed": true
   },
   "outputs": [],
   "source": [
    "#test space article with classifier \n",
    "X_new3 = vecto.transform(article3)\n",
    "X_new_tfidf3 = tfidf_trans.transform(X_new3)\n",
    "X_new_tfidf3 = tfidf_trans.transform(X_new3)\n",
    "pred_text3 = naive_cf.predict(X_new_tfidf3)"
   ]
  },
  {
   "cell_type": "code",
   "execution_count": 56,
   "metadata": {},
   "outputs": [
    {
     "name": "stdout",
     "output_type": "stream",
     "text": [
      "'When I first glanced at the image above, I thought I was looking at the surface of the Sun. But no, these really are mega cyclones swirling with winds up to 220 miles per hour around Jupiter’s north and south poles, as seen by NASA’s Juno spacecraft.' => sci.space\n"
     ]
    }
   ],
   "source": [
    "#print the predicted result\n",
    "for doc, category in zip(article3, pred_text3):\n",
    "    print('%r => %s' % (doc, train.target_names[category]))"
   ]
  },
  {
   "cell_type": "code",
   "execution_count": 57,
   "metadata": {
    "collapsed": true
   },
   "outputs": [],
   "source": [
    "#text from craigslist for an item for sale\n",
    "article4 = ['Desk chair for sale. Chair height is adjustable, however the chair-back does not tilt. Will include for free if purchased in conjunction with a wood desk I am also selling. See link below to view the available desk. If not, chair only is $50. ']"
   ]
  },
  {
   "cell_type": "code",
   "execution_count": 58,
   "metadata": {},
   "outputs": [
    {
     "data": {
      "text/plain": [
       "['Desk chair for sale. Chair height is adjustable, however the chair-back does not tilt. Will include for free if purchased in conjunction with a wood desk I am also selling. See link below to view the available desk. If not, chair only is $50. ']"
      ]
     },
     "execution_count": 58,
     "metadata": {},
     "output_type": "execute_result"
    }
   ],
   "source": [
    "article4"
   ]
  },
  {
   "cell_type": "code",
   "execution_count": 59,
   "metadata": {
    "collapsed": true
   },
   "outputs": [],
   "source": [
    "#test for sale text with classifier\n",
    "X_new4 = vecto.transform(article4)\n",
    "X_new_tfidf4 = tfidf_trans.transform(X_new4)\n",
    "X_new_tfidf4 = tfidf_trans.transform(X_new4)\n",
    "pred_text4 = naive_cf.predict(X_new_tfidf4)"
   ]
  },
  {
   "cell_type": "code",
   "execution_count": 60,
   "metadata": {},
   "outputs": [
    {
     "name": "stdout",
     "output_type": "stream",
     "text": [
      "'Desk chair for sale. Chair height is adjustable, however the chair-back does not tilt. Will include for free if purchased in conjunction with a wood desk I am also selling. See link below to view the available desk. If not, chair only is $50. ' => misc.forsale\n"
     ]
    }
   ],
   "source": [
    "#print the predicted result\n",
    "for doc, category in zip(article4, pred_text4):\n",
    "    print('%r => %s' % (doc, train.target_names[category]))"
   ]
  },
  {
   "cell_type": "code",
   "execution_count": null,
   "metadata": {
    "collapsed": true
   },
   "outputs": [],
   "source": []
  },
  {
   "cell_type": "code",
   "execution_count": null,
   "metadata": {
    "collapsed": true
   },
   "outputs": [],
   "source": []
  }
 ],
 "metadata": {
  "kernelspec": {
   "display_name": "Python 3",
   "language": "python",
   "name": "python3"
  },
  "language_info": {
   "codemirror_mode": {
    "name": "ipython",
    "version": 3
   },
   "file_extension": ".py",
   "mimetype": "text/x-python",
   "name": "python",
   "nbconvert_exporter": "python",
   "pygments_lexer": "ipython3",
   "version": "3.6.1"
  }
 },
 "nbformat": 4,
 "nbformat_minor": 2
}
